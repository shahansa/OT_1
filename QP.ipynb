{
 "cells": [
  {
   "cell_type": "markdown",
   "metadata": {},
   "source": [
    "### KKT QP\n",
    "****std form assumed****\n",
    "\n",
    "Min f(x) = $x^{T}Qx$ + $c^{T}x$ \\\n",
    "sub to $Ax \\leq b$ \\\n",
    "      $x \\geq 0$ \\\n",
    "      \n",
    "where $Q = [q_{ij}]_{nxn}$ - symmertric positive semi definite matrix \\\n",
    "$c,x \\in R^{n}$  \\\n",
    "$b \\in R^{m}$ \\\n",
    "$A = [a_{ij}]_{mxn}$ \\\n",
    "\n",
    "The kkt conditions are \\\n",
    "\n",
    "\n",
    "\n",
    "\n",
    "\n"
   ]
  },
  {
   "cell_type": "code",
   "execution_count": 1,
   "metadata": {},
   "outputs": [],
   "source": [
    "import numpy as np"
   ]
  },
  {
   "cell_type": "code",
   "execution_count": 2,
   "metadata": {},
   "outputs": [],
   "source": [
    "def simplex_solver(A, b, c, MIN=0):\n",
    "    if MIN:\n",
    "        c = c * -1\n",
    "    # A, b, c as per the standard form given \n",
    "    n_eq = A.shape[0]\n",
    "    n_unk = c.shape[0] + n_eq #original variables + slack variables\n",
    "    n_slack = n_eq #no. of slack variables\n",
    "    #construct initial tableau\n",
    "    coef_slack_z = np.zeros(n_slack, float)  #initially the coeff of slack variables in z\n",
    "    coef_in_z = np.hstack((c, coef_slack_z))  #coeff of basic + non-basic variables in z\n",
    "\n",
    "    coeff_basic = np.zeros((n_slack, 2), float)\n",
    "\n",
    "    for i in range(coeff_basic.shape[0]):\n",
    "        coeff_basic[i][0] = c.shape[0]+1+i\n",
    "        coeff_basic[i][1] = 0\n",
    "\n",
    "    ## A and an identity matrix of size n_slack * n_slack\n",
    "\n",
    "    slack_table = np.identity(n_slack, float)\n",
    "\n",
    "    tableau = np.hstack((A,slack_table))\n",
    "\n",
    "    finished = False\n",
    "    unbounded_flag = False\n",
    "    itr = 0\n",
    "    print('Maximization Simplex')\n",
    "    print('====================')\n",
    "\n",
    "    while not finished:\n",
    "        itr += 1\n",
    "        print('iteration: {}'.format(itr))\n",
    "        print('+++++++++++++++++++')\n",
    "        print('tableau:')\n",
    "        print(tableau)\n",
    "        print('\\n')\n",
    "        #need to calculate dot product of coeff of basic and each column of tableau\n",
    "\n",
    "        zj = []\n",
    "        for column in tableau.T:\n",
    "                zj.append(np.dot(coeff_basic[:,1], column))\n",
    "\n",
    "        print('zj :{}'.format(zj))\n",
    "\n",
    "        #find cj-zj : the relative profits for this round\n",
    "\n",
    "\n",
    "        cj_zj = [c-z for (c,z) in zip(coef_in_z, zj)]\n",
    "        print('cj-zj : {}'.format(cj_zj))\n",
    "        max_profit = max(cj_zj)\n",
    "        print('max profit for this round: {}'.format(max_profit))\n",
    "        if max_profit > 0:\n",
    "            #LP is not finished yet\n",
    "            entering = np.argmax(cj_zj)\n",
    "            b_i = np.array([a/b if b!=0 else np.inf for (a,b) in zip (b, tableau[:,entering])], float)\n",
    "            print('b_i : {}'.format(b_i))\n",
    "            min_ratio = min(b_i)\n",
    "            if(min_ratio > 0):\n",
    "                #here the LP is not unbounded\n",
    "                leaving = np.argmin(b_i)\n",
    "                print('entering: {}, leaving: {}'.format(entering,leaving))\n",
    "                pivot = tableau[leaving][entering]\n",
    "                print('pivot: {}'.format(pivot))\n",
    "\n",
    "                #divide the line of pivot using the pivot\n",
    "                #this is the leaving row. \n",
    "\n",
    "                next_round_tableau = np.zeros(tableau.shape, float)\n",
    "\n",
    "                leaving_var = c.shape[0] + leaving + 1\n",
    "                print('leaving var : {}'.format(leaving_var))\n",
    "\n",
    "                # since pivot column variable is entering, change the coefficient and index in coeff_basic_var\n",
    "\n",
    "                coeff_basic[leaving][1] = coef_in_z[entering]\n",
    "                coeff_basic[leaving][0] = entering+1\n",
    "                print('coeff_basic_var after updating: {}'.format(coeff_basic))\n",
    "\n",
    "                #to construct tableau for next round\n",
    "                #dividing pivot row with pivot\n",
    "                next_round_tableau[leaving] = tableau[leaving]/pivot\n",
    "\n",
    "                #for each index, the tranformation is done to obtain new value\n",
    "                row = 0\n",
    "                while row != n_eq:\n",
    "                    if row != leaving:\n",
    "                        for col in range(tableau.shape[1]):\n",
    "                            if col != entering:\n",
    "                                next_round_tableau[row][col] = (tableau[row][col]-((tableau[row][entering]*tableau[leaving][col])/pivot))\n",
    "                    row += 1\n",
    "\n",
    "\n",
    "                #finally, the basic variables will form identity matrix. assigning 1 in those indices\n",
    "                for i in range(next_round_tableau.shape[0]):\n",
    "                    next_round_tableau[i][i+c.shape[0]] = 1\n",
    "                tableau = next_round_tableau\n",
    "                print('\\n\\n')\n",
    "            else:\n",
    "                #unbounded LP case\n",
    "                unbounded_flag = True\n",
    "                print('LP unbounded!')\n",
    "                finished = True\n",
    "        else:\n",
    "            finished = True\n",
    "            if not unbounded_flag:\n",
    "                print('\\n\\nSimplex finished\\n')\n",
    "                print('optimal values \\(x values index and slack variables\\): \\n {}'.format(coeff_basic))\n",
    "            #optimum = np.dot(c,coeff_basic[:,1])\n"
   ]
  },
  {
   "cell_type": "code",
   "execution_count": 3,
   "metadata": {},
   "outputs": [],
   "source": [
    "Q = np.array([[1, -1],[-1, 2]]) #coeff of quadrtic components"
   ]
  },
  {
   "cell_type": "code",
   "execution_count": 4,
   "metadata": {},
   "outputs": [],
   "source": [
    "c = np.array([1, 2]) #coeff of linear part"
   ]
  },
  {
   "cell_type": "code",
   "execution_count": 5,
   "metadata": {},
   "outputs": [],
   "source": [
    "#constraints\n",
    "A = np.array([[1, 2], [1, 3]])\n",
    "b = np.array([2, 2])"
   ]
  },
  {
   "cell_type": "code",
   "execution_count": 6,
   "metadata": {},
   "outputs": [
    {
     "data": {
      "text/plain": [
       "(2, 2)"
      ]
     },
     "execution_count": 6,
     "metadata": {},
     "output_type": "execute_result"
    }
   ],
   "source": [
    "A.shape"
   ]
  },
  {
   "cell_type": "code",
   "execution_count": 7,
   "metadata": {},
   "outputs": [
    {
     "data": {
      "text/plain": [
       "(2,)"
      ]
     },
     "execution_count": 7,
     "metadata": {},
     "output_type": "execute_result"
    }
   ],
   "source": [
    "c.shape"
   ]
  },
  {
   "cell_type": "code",
   "execution_count": 8,
   "metadata": {},
   "outputs": [],
   "source": [
    "#other identity and zero matrices"
   ]
  },
  {
   "cell_type": "code",
   "execution_count": 9,
   "metadata": {},
   "outputs": [],
   "source": [
    "In = np.identity(c.shape[0])\n",
    "I = np.identity(A.shape[0])\n",
    "zero = np.zeros((A.shape[0], A.shape[0]))\n",
    "Azero = np.zeros((A.shape[0],A.shape[0]))\n",
    "Inzero = np.zeros((A.shape[0], A.shape[0]))\n"
   ]
  },
  {
   "cell_type": "code",
   "execution_count": 10,
   "metadata": {},
   "outputs": [
    {
     "data": {
      "text/plain": [
       "array([[1., 0.],\n",
       "       [0., 1.]])"
      ]
     },
     "execution_count": 10,
     "metadata": {},
     "output_type": "execute_result"
    }
   ],
   "source": [
    "In"
   ]
  },
  {
   "cell_type": "code",
   "execution_count": 11,
   "metadata": {},
   "outputs": [
    {
     "data": {
      "text/plain": [
       "array([[1., 0.],\n",
       "       [0., 1.]])"
      ]
     },
     "execution_count": 11,
     "metadata": {},
     "output_type": "execute_result"
    }
   ],
   "source": [
    "I"
   ]
  },
  {
   "cell_type": "code",
   "execution_count": 12,
   "metadata": {},
   "outputs": [
    {
     "data": {
      "text/plain": [
       "array([[0., 0.],\n",
       "       [0., 0.]])"
      ]
     },
     "execution_count": 12,
     "metadata": {},
     "output_type": "execute_result"
    }
   ],
   "source": [
    "zero"
   ]
  },
  {
   "cell_type": "code",
   "execution_count": 13,
   "metadata": {},
   "outputs": [
    {
     "data": {
      "text/plain": [
       "array([[0., 0.],\n",
       "       [0., 0.]])"
      ]
     },
     "execution_count": 13,
     "metadata": {},
     "output_type": "execute_result"
    }
   ],
   "source": [
    "Azero"
   ]
  },
  {
   "cell_type": "code",
   "execution_count": 14,
   "metadata": {},
   "outputs": [
    {
     "data": {
      "text/plain": [
       "array([[0., 0.],\n",
       "       [0., 0.]])"
      ]
     },
     "execution_count": 14,
     "metadata": {},
     "output_type": "execute_result"
    }
   ],
   "source": [
    "Inzero"
   ]
  },
  {
   "cell_type": "code",
   "execution_count": 15,
   "metadata": {},
   "outputs": [],
   "source": [
    "#solve Lx = v\n",
    "L = [[2*Q, A.T, -1*In, zero], [A, Azero, Inzero, I]]\n"
   ]
  },
  {
   "cell_type": "code",
   "execution_count": 16,
   "metadata": {},
   "outputs": [],
   "source": [
    "L = 2*Q"
   ]
  },
  {
   "cell_type": "code",
   "execution_count": 17,
   "metadata": {},
   "outputs": [
    {
     "data": {
      "text/plain": [
       "array([[ 2, -2],\n",
       "       [-2,  4]])"
      ]
     },
     "execution_count": 17,
     "metadata": {},
     "output_type": "execute_result"
    }
   ],
   "source": [
    "L"
   ]
  },
  {
   "cell_type": "code",
   "execution_count": 18,
   "metadata": {},
   "outputs": [
    {
     "data": {
      "text/plain": [
       "array([[1, 1],\n",
       "       [2, 3]])"
      ]
     },
     "execution_count": 18,
     "metadata": {},
     "output_type": "execute_result"
    }
   ],
   "source": [
    "A.T"
   ]
  },
  {
   "cell_type": "code",
   "execution_count": 19,
   "metadata": {},
   "outputs": [],
   "source": [
    "L1 = np.hstack((2*Q, A.T, -1*In, zero.T))"
   ]
  },
  {
   "cell_type": "code",
   "execution_count": 20,
   "metadata": {},
   "outputs": [],
   "source": [
    "L2 = np.hstack((A, Azero, Inzero, I))"
   ]
  },
  {
   "cell_type": "code",
   "execution_count": 21,
   "metadata": {},
   "outputs": [
    {
     "data": {
      "text/plain": [
       "array([[ 2., -2.,  1.,  1., -1., -0.,  0.,  0.],\n",
       "       [-2.,  4.,  2.,  3., -0., -1.,  0.,  0.]])"
      ]
     },
     "execution_count": 21,
     "metadata": {},
     "output_type": "execute_result"
    }
   ],
   "source": [
    "L1"
   ]
  },
  {
   "cell_type": "code",
   "execution_count": 22,
   "metadata": {},
   "outputs": [
    {
     "data": {
      "text/plain": [
       "array([[1., 2., 0., 0., 0., 0., 1., 0.],\n",
       "       [1., 3., 0., 0., 0., 0., 0., 1.]])"
      ]
     },
     "execution_count": 22,
     "metadata": {},
     "output_type": "execute_result"
    }
   ],
   "source": [
    "L2"
   ]
  },
  {
   "cell_type": "code",
   "execution_count": 23,
   "metadata": {},
   "outputs": [],
   "source": [
    "L = np.vstack((L1, L2))"
   ]
  },
  {
   "cell_type": "code",
   "execution_count": 24,
   "metadata": {},
   "outputs": [],
   "source": [
    "v = np.hstack((-1*c, b))"
   ]
  },
  {
   "cell_type": "code",
   "execution_count": 25,
   "metadata": {},
   "outputs": [
    {
     "data": {
      "text/plain": [
       "array([-1, -2,  2,  2])"
      ]
     },
     "execution_count": 25,
     "metadata": {},
     "output_type": "execute_result"
    }
   ],
   "source": [
    "v"
   ]
  },
  {
   "cell_type": "code",
   "execution_count": 26,
   "metadata": {},
   "outputs": [
    {
     "data": {
      "text/plain": [
       "array([[ 2., -2.,  1.,  1., -1., -0.,  0.,  0.],\n",
       "       [-2.,  4.,  2.,  3., -0., -1.,  0.,  0.],\n",
       "       [ 1.,  2.,  0.,  0.,  0.,  0.,  1.,  0.],\n",
       "       [ 1.,  3.,  0.,  0.,  0.,  0.,  0.,  1.]])"
      ]
     },
     "execution_count": 26,
     "metadata": {},
     "output_type": "execute_result"
    }
   ],
   "source": [
    "L\n"
   ]
  },
  {
   "cell_type": "code",
   "execution_count": 27,
   "metadata": {},
   "outputs": [],
   "source": [
    "##these equations form the constraints. there are x, lambda, mu, s, and artifical variables A1,A2,A3 and A4\n",
    "## Objective is to minimize A1+A2+A3+A4"
   ]
  },
  {
   "cell_type": "code",
   "execution_count": 28,
   "metadata": {},
   "outputs": [],
   "source": [
    "C = np.ones(L.shape[0])"
   ]
  },
  {
   "cell_type": "code",
   "execution_count": 29,
   "metadata": {},
   "outputs": [
    {
     "data": {
      "text/plain": [
       "array([1., 1., 1., 1.])"
      ]
     },
     "execution_count": 29,
     "metadata": {},
     "output_type": "execute_result"
    }
   ],
   "source": [
    "C"
   ]
  },
  {
   "cell_type": "markdown",
   "metadata": {},
   "source": [
    "#this now forms a simplex as \n",
    "\n",
    "min $C^{T}X$\n",
    "ST  Lx <= b\n",
    "and x>=0\n",
    "\n"
   ]
  },
  {
   "cell_type": "code",
   "execution_count": 30,
   "metadata": {},
   "outputs": [
    {
     "name": "stdout",
     "output_type": "stream",
     "text": [
      "Maximization Simplex\n",
      "====================\n",
      "iteration: 1\n",
      "+++++++++++++++++++\n",
      "tableau:\n",
      "[[ 2. -2.  1.  1. -1. -0.  0.  0.  1.  0.  0.  0.]\n",
      " [-2.  4.  2.  3. -0. -1.  0.  0.  0.  1.  0.  0.]\n",
      " [ 1.  2.  0.  0.  0.  0.  1.  0.  0.  0.  1.  0.]\n",
      " [ 1.  3.  0.  0.  0.  0.  0.  1.  0.  0.  0.  1.]]\n",
      "\n",
      "\n",
      "zj :[0.0, 0.0, 0.0, 0.0, 0.0, 0.0, 0.0, 0.0, 0.0, 0.0, 0.0, 0.0]\n",
      "cj-zj : [-1.0, -1.0, -1.0, -1.0, 0.0, 0.0, 0.0, 0.0]\n",
      "max profit for this round: 0.0\n",
      "\n",
      "\n",
      "Simplex finished\n",
      "\n",
      "optimal values \\(x values index and slack variables\\): \n",
      " [[5. 0.]\n",
      " [6. 0.]\n",
      " [7. 0.]\n",
      " [8. 0.]]\n"
     ]
    }
   ],
   "source": [
    "simplex_solver(L,v,C,1)"
   ]
  },
  {
   "cell_type": "code",
   "execution_count": null,
   "metadata": {},
   "outputs": [],
   "source": []
  }
 ],
 "metadata": {
  "kernelspec": {
   "display_name": "Python 3",
   "language": "python",
   "name": "python3"
  },
  "language_info": {
   "codemirror_mode": {
    "name": "ipython",
    "version": 3
   },
   "file_extension": ".py",
   "mimetype": "text/x-python",
   "name": "python",
   "nbconvert_exporter": "python",
   "pygments_lexer": "ipython3",
   "version": "3.7.4"
  }
 },
 "nbformat": 4,
 "nbformat_minor": 4
}
